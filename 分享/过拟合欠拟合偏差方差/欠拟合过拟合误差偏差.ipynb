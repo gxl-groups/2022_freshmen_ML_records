{
 "cells": [
  {
   "cell_type": "markdown",
   "metadata": {
    "ExecuteTime": {
     "end_time": "2022-05-12T01:35:40.656435Z",
     "start_time": "2022-05-12T01:35:40.642349Z"
    },
    "slideshow": {
     "slide_type": "slide"
    }
   },
   "source": [
    "- A short review\n",
    "    - Support Vector Machine\n",
    "    - Kernel Function\n",
    "- Model evaluation and Model selection\n",
    "    - Bias and Varience\n",
    "    - Data Splits\n",
    "    - ~~Regularization~~\n",
    "- ~~Computational learning theory~~\n",
    "\n",
    "\n"
   ]
  },
  {
   "cell_type": "markdown",
   "metadata": {
    "slideshow": {
     "slide_type": "slide"
    }
   },
   "source": [
    "## A short review\n",
    "what is SVM?\n",
    "\n",
    "$$w^Tx+b = 0$$\n",
    "$$\n",
    "r=\\frac{\\left|\\boldsymbol{w}^{\\mathrm{T}} \\boldsymbol{x}+b\\right|}{\\|\\boldsymbol{w}\\|}\n",
    "$$\n",
    "\n",
    "\n",
    "- **Support Vector**\n",
    "- **margin**\n",
    "\n",
    "$$\n",
    "\\gamma=\\frac{2}{\\|w\\|}\n",
    "$$\n",
    "\n",
    "\n",
    "\n",
    "\n"
   ]
  },
  {
   "cell_type": "markdown",
   "metadata": {
    "slideshow": {
     "slide_type": "subslide"
    }
   },
   "source": [
    "$$\n",
    "\\mathop{argmax}_{w,b}[\\min_i\\frac{|w^Tx_i+b|}{||w||}]\\ s.t.\\ y_i(w^Tx_i+b)>0, y_i \\in \\{-1, 1\\}\\\\\n",
    "\\Longrightarrow\\mathop{argmax}_{w,b}[\\min_i\\frac{y_i(w^Tx_i+b)}{||w||}]\\ s.t.\\ y_i(w^Tx_i+b)>0\n",
    "$$\n",
    "fixed $\\min y_i(w^Tx_i+b)=1>0$\n",
    "$$ \n",
    "\\left\\{\\begin{array}{ll}\n",
    "\\boldsymbol{w}^{\\mathrm{T}} \\boldsymbol{x}_{i}+b \\geqslant+1, & y_{i}=+1 \\\\\n",
    "\\boldsymbol{w}^{\\mathrm{T}} \\boldsymbol{x}_{i}+b \\leqslant-1, & y_{i}=-1\n",
    "\\end{array}\\right.\n",
    "$$\n",
    "\n",
    "simplify\n",
    "$$\n",
    "\\mathop{argmin}_{w,b}\\frac{1}{2}w^Tw\\ s.t.\\ \\min_iy_i(w^Tx_i+b)=1\\\\\n",
    "\\Rightarrow\\mathop{argmin}_{w,b}\\frac{1}{2}w^Tw\\ s.t.\\ y_i(w^Tx_i+b)\\ge1,i=1,2,\\cdots,N\n",
    "$$\n",
    "\n"
   ]
  },
  {
   "cell_type": "markdown",
   "metadata": {
    "slideshow": {
     "slide_type": "subslide"
    }
   },
   "source": [
    "![](https://s2.loli.net/2022/05/12/2Lb8UHNtfRSqZoz.png)"
   ]
  },
  {
   "cell_type": "markdown",
   "metadata": {
    "slideshow": {
     "slide_type": "subslide"
    }
   },
   "source": [
    "Lagrange \n",
    "$$\n",
    "L(w,b,\\lambda)=\\frac{1}{2}w^Tw+\\sum\\limits_{i=1}^N\\lambda_i(1-y_i(w^Tx_i+b))\n",
    "$$\n",
    "\n",
    "$$\n",
    "\\mathop{argmin}_{w,b}\\max_{\\lambda}L(w,b,\\lambda_i)\\ s.t.\\ \\lambda_i\\ge0\n",
    "$$\n",
    "\n",
    "$\\max_{\\lambda}L(w,b,\\lambda_i)$ 一定存在,并且是$\\frac{1}{2}w^Tw + 0$\n",
    "\n",
    "1. $\\lambda_i = 0$\n",
    "2. $y_i(w^Tx_i+b) = 1$\n",
    "\n",
    "dual problem\n",
    "$$\n",
    "\\max_{\\lambda_i}\\min_{w,b}L(w,b,\\lambda_i)\\ s.t.\\ \\lambda_i\\ge0\n",
    "$$\n"
   ]
  },
  {
   "cell_type": "markdown",
   "metadata": {
    "slideshow": {
     "slide_type": "subslide"
    }
   },
   "source": [
    "Lagrange \n",
    "$$\n",
    "L(w,b,\\lambda)=\\frac{1}{2}w^Tw+\\sum\\limits_{i=1}^N\\lambda_i(1-y_i(w^Tx_i+b))\n",
    "$$\n",
    "\n",
    "$$\n",
    "\\mathop{argmin}_{w,b}\\max_{\\lambda}L(w,b,\\lambda_i)\\ s.t.\\ \\lambda_i\\ge0\n",
    "$$\n",
    "\n",
    "$\\max_{\\lambda}L(w,b,\\lambda_i)$ 一定存在,并且是$\\frac{1}{2}w^Tw + 0$\n",
    "\n",
    "1. $\\lambda_i = 0$\n",
    "2. $y_i(w^Tx_i+b) = 1$\n",
    "\n",
    "dual problem\n",
    "$$\n",
    "\\max_{\\lambda_i}\\min_{w,b}L(w,b,\\lambda_i)\\ s.t.\\ \\lambda_i\\ge0\n",
    "$$\n"
   ]
  },
  {
   "cell_type": "markdown",
   "metadata": {
    "slideshow": {
     "slide_type": "subslide"
    }
   },
   "source": [
    "Lagrange \n",
    "$$\n",
    "L(w,b,\\lambda)=\\frac{1}{2}w^Tw+\\sum\\limits_{i=1}^N\\lambda_i(1-y_i(w^Tx_i+b))\n",
    "$$\n",
    "\n",
    "$$\n",
    "\\mathop{argmin}_{w,b}\\max_{\\lambda}L(w,b,\\lambda_i)\\ s.t.\\ \\lambda_i\\ge0\n",
    "$$\n",
    "\n",
    "$\\max_{\\lambda}L(w,b,\\lambda_i)$ 一定存在,并且是$\\frac{1}{2}w^Tw + 0$\n",
    "\n",
    "1. $\\lambda_i = 0$\n",
    "2. $y_i(w^Tx_i+b) = 1$\n",
    "\n",
    "dual problem\n",
    "$$\n",
    "\\max_{\\lambda_i}\\min_{w,b}L(w,b,\\lambda_i)\\ s.t.\\ \\lambda_i\\ge0\n",
    "$$\n"
   ]
  },
  {
   "cell_type": "markdown",
   "metadata": {
    "slideshow": {
     "slide_type": "subslide"
    }
   },
   "source": [
    "constraint optimization problem\n",
    "\\begin{align}\n",
    "&\\min_{x\\in\\mathbb{R^p}}f(x)\\\\\n",
    "&s.t.\\ m_i(x)\\le0,i=1,2,\\cdots,M\\\\\n",
    "&\\ \\ \\ \\ \\ \\ \\ \\ n_j(x)=0,j=1,2,\\cdots,N\n",
    "\\end{align}\n",
    "define Lagrange function\n",
    "$$\n",
    "L(x,\\lambda,\\eta)=f(x)+\\sum\\limits_{i=1}^M\\lambda_im_i(x)+\\sum\\limits_{i=1}^N\\eta_in_i(x)\n",
    "$$\n",
    "unconstrained problem\n",
    "$$\n",
    "\\min_{x\\in\\mathbb{R}^p}\\max_{\\lambda,\\eta}L(x,\\lambda,\\eta)\\ s.t.\\ \\lambda_i\\ge0\n",
    "$$\n",
    "\n",
    "$\\max_{\\lambda,\\eta}L(x,\\lambda,\\eta)$ 一定存在,并且是$\\max_{\\lambda,\\eta}L(x,\\lambda,\\eta) = f(x)$\n",
    "\n",
    "dual problem\n",
    "$$\n",
    "\\max_{\\lambda,\\eta}\\min_{x\\in\\mathbb{R}^p}L(x,\\lambda,\\eta)\\ s.t.\\ \\lambda_i\\ge0\n",
    "$$\n",
    "\n"
   ]
  },
  {
   "cell_type": "markdown",
   "metadata": {
    "slideshow": {
     "slide_type": "subslide"
    }
   },
   "source": [
    "Problem Solution\n",
    "\n",
    "问题是一个二次规划问题,不等式约束是仿射函数（最高次数为1的多项式函数）,原问题和对偶问题等价,求解它的对偶问题\n",
    "$$\n",
    "L(w,b,\\lambda)=\\frac{1}{2}w^Tw+\\sum\\limits_{i=1}^N\\lambda_i(1-y_i(w^Tx_i+b))\n",
    "$$\n",
    "- $b$ \n",
    "$$\\frac{\\partial}{\\partial b}L=0\\Rightarrow\\sum\\limits_{i=1}^N\\lambda_iy_i=0$$\n",
    "\n",
    "- $w$：首先将 $b$ 代入：\n",
    "\n",
    "\\begin{align}\n",
    "L(w,b,\\lambda_i) &=\\frac{1}{2}w^Tw+\\sum\\limits_{i=1}^N\\lambda_i(1-y_iw^Tx_i-y_ib) \\\\ \n",
    " &=\\frac{1}{2}w^Tw+\\sum\\limits_{i=1}^N\\lambda_i-\\sum\\limits_{i=1}^N\\lambda_iy_iw^Tx_i \\\\\n",
    "\\end{align}\n",
    "$$\n",
    "\\frac{\\partial}{\\partial w}L=0\\Rightarrow w=\\sum\\limits_{i=1}^N\\lambda_iy_ix_i\n",
    "$$\n",
    "\n"
   ]
  },
  {
   "cell_type": "markdown",
   "metadata": {
    "slideshow": {
     "slide_type": "subslide"
    }
   },
   "source": [
    "代入$\\lambda和w$到上面的拉格朗日函数中\n",
    "$$\n",
    "L(w,b,\\lambda_i)=-\\frac{1}{2}\\sum\\limits_{i=1}^N\\sum\\limits_{j=1}^N\\lambda_i\\lambda_jy_iy_jx_i^Tx_j+\\sum\\limits_{i=1}^N\\lambda_i\n",
    "$$\n",
    "对偶问题就是:\n",
    "$$\n",
    "\\max_{\\lambda}-\\frac{1}{2}\\sum\\limits_{i=1}^N\\sum\\limits_{j=1}^N\\lambda_i\\lambda_jy_iy_jx_i^Tx_j+\\sum\\limits_{i=1}^N\\lambda_i,\\ s.t.\\ \\lambda_i\\ge0\n",
    "$$\n",
    "\n",
    "KKT条件\n",
    "\\begin{align}\n",
    "&\\frac{\\partial L}{\\partial w}=0,\\frac{\\partial L}{\\partial b}=0\n",
    "\\\\&\\lambda_k(1-y_k(w^Tx_k+b))=0(slackness\\ complementary,充分非必要)\\\\\n",
    "&\\lambda_i\\ge0\\\\\n",
    "&1-y_i(w^Tx_i+b)\\le0\n",
    "\\end{align}\n"
   ]
  },
  {
   "cell_type": "markdown",
   "metadata": {
    "slideshow": {
     "slide_type": "subslide"
    }
   },
   "source": [
    "最佳的参数:\n",
    "$$\n",
    "\\hat{w}=\\sum\\limits_{i=1}^N\\lambda_iy_ix_i\\\\\n",
    "\\hat{b}=y_k-w^Tx_k=y_k-\\sum\\limits_{i=1}^N\\lambda_iy_ix_i^Tx_k, \\\\\n",
    "\\exists k,1-y_k(w^Tx_k+b)=0\n",
    "$$\n",
    "\n",
    "1. 超平面的参数 $w$ 是数据点的线性组合\n",
    "2. 最终的参数值就是部分满足 $y_i(w^Tx_i+b)=1$向量的线性组合"
   ]
  },
  {
   "cell_type": "markdown",
   "metadata": {
    "slideshow": {
     "slide_type": "subslide"
    }
   },
   "source": [
    "~~Platt提出的SMO算法可以高效的求解上述对偶问题，他把原始问题的求解N个参数二次规划问题分解成多个二次规划问题求解，每个字问题只需要求解2个参数，节省了时间成本和内存需求\n"
   ]
  },
  {
   "cell_type": "code",
   "execution_count": 25,
   "metadata": {
    "ExecuteTime": {
     "end_time": "2022-05-20T03:21:54.469470Z",
     "start_time": "2022-05-20T03:21:54.460471Z"
    },
    "slideshow": {
     "slide_type": "subslide"
    }
   },
   "outputs": [],
   "source": [
    "import sys\n",
    "import numpy as np\n",
    "from matplotlib import pyplot as plt\n",
    "from numpy import *\n",
    "%matplotlib inline"
   ]
  },
  {
   "cell_type": "code",
   "execution_count": 38,
   "metadata": {
    "ExecuteTime": {
     "end_time": "2022-05-20T03:25:33.620552Z",
     "start_time": "2022-05-20T03:25:33.612537Z"
    },
    "slideshow": {
     "slide_type": "subslide"
    }
   },
   "outputs": [],
   "source": [
    "def load_data(filename):\n",
    "    dataset, labels = [], []\n",
    "    with open(filename, 'r') as f:\n",
    "        for line in f:\n",
    "            x, y, label = [float(i) for i in line.strip().split()]\n",
    "            dataset.append([x, y])\n",
    "            labels.append(label)\n",
    "    return dataset, labels\n"
   ]
  },
  {
   "cell_type": "code",
   "execution_count": 39,
   "metadata": {
    "ExecuteTime": {
     "end_time": "2022-05-20T03:25:33.982555Z",
     "start_time": "2022-05-20T03:25:33.965569Z"
    },
    "slideshow": {
     "slide_type": "subslide"
    }
   },
   "outputs": [],
   "source": [
    "def clip(alpha, L, H):\n",
    "    ''' 修建alpha的值到L和H之间.\n",
    "    '''\n",
    "    if alpha < L:\n",
    "        return L\n",
    "    elif alpha > H:\n",
    "        return H\n",
    "    else:\n",
    "        return alpha\n"
   ]
  },
  {
   "cell_type": "code",
   "execution_count": 40,
   "metadata": {
    "ExecuteTime": {
     "end_time": "2022-05-20T03:25:34.220585Z",
     "start_time": "2022-05-20T03:25:34.210586Z"
    },
    "slideshow": {
     "slide_type": "subslide"
    }
   },
   "outputs": [],
   "source": [
    "def select_j(i, m):\n",
    "    ''' 在m中随机选择除了i之外剩余的数\n",
    "    '''\n",
    "    l = list(range(m))\n",
    "    seq = l[: i] + l[i+1:]\n",
    "    return random.choice(seq)"
   ]
  },
  {
   "cell_type": "code",
   "execution_count": 41,
   "metadata": {
    "ExecuteTime": {
     "end_time": "2022-05-20T03:25:34.427586Z",
     "start_time": "2022-05-20T03:25:34.417585Z"
    },
    "slideshow": {
     "slide_type": "subslide"
    }
   },
   "outputs": [],
   "source": [
    "def get_w(alphas, dataset, labels):\n",
    "    ''' 通过已知数据点和拉格朗日乘子获得分割超平面参数w\n",
    "    '''\n",
    "    alphas, dataset, labels = np.array(alphas), np.array(dataset), np.array(labels)\n",
    "    yx = labels.reshape(1, -1).T*np.array([1, 1])*dataset\n",
    "    w = np.dot(yx.T, alphas)\n",
    "    return w.tolist()"
   ]
  },
  {
   "cell_type": "code",
   "execution_count": 42,
   "metadata": {
    "ExecuteTime": {
     "end_time": "2022-05-20T03:25:34.633602Z",
     "start_time": "2022-05-20T03:25:34.610587Z"
    },
    "slideshow": {
     "slide_type": "subslide"
    }
   },
   "outputs": [],
   "source": [
    "def simple_smo(dataset, labels, C, max_iter):\n",
    "    ''' 简化版SMO算法实现，未使用启发式方法对alpha对进行选择.\n",
    "    :param dataset: 所有特征数据向量\n",
    "    :param labels: 所有的数据标签\n",
    "    :param C: 软间隔常数, 0 <= alpha_i <= C\n",
    "    :param max_iter: 外层循环最大迭代次数\n",
    "    '''\n",
    "    dataset = np.array(dataset)\n",
    "    m, n = dataset.shape\n",
    "    labels = np.array(labels)\n",
    "    # 初始化参数\n",
    "    alphas = np.zeros(m)\n",
    "    b = 0\n",
    "    it = 0\n",
    "    def f(x):\n",
    "        \"SVM分类器函数 y = w^Tx + b\"\n",
    "        # Kernel function vector.\n",
    "        x = np.matrix(x).T\n",
    "        data = np.matrix(dataset)\n",
    "        ks = data*x\n",
    "        # Predictive value.\n",
    "        wx = np.matrix(alphas*labels)*ks\n",
    "        fx = wx + b\n",
    "        return fx[0, 0]\n",
    "\n",
    "    while it < max_iter:\n",
    "        pair_changed = 0\n",
    "        for i in range(m):\n",
    "            a_i, x_i, y_i = alphas[i], dataset[i], labels[i]\n",
    "            fx_i = f(x_i)\n",
    "            E_i = fx_i - y_i\n",
    "            j = select_j(i, m)\n",
    "            a_j, x_j, y_j = alphas[j], dataset[j], labels[j]\n",
    "            fx_j = f(x_j)\n",
    "            E_j = fx_j - y_j\n",
    "            K_ii, K_jj, K_ij = np.dot(x_i, x_i), np.dot(x_j, x_j), np.dot(x_i, x_j)\n",
    "            eta = K_ii + K_jj - 2*K_ij\n",
    "            if eta <= 0:\n",
    "                print('WARNING  eta <= 0')\n",
    "                continue\n",
    "            # 获取更新的alpha对\n",
    "            a_i_old, a_j_old = a_i, a_j\n",
    "            a_j_new = a_j_old + y_j*(E_i - E_j)/eta\n",
    "            # 对alpha进行修剪\n",
    "            if y_i != y_j:\n",
    "                L = max(0, a_j_old - a_i_old)\n",
    "                H = min(C, C + a_j_old - a_i_old)\n",
    "            else:\n",
    "                L = max(0, a_i_old + a_j_old - C)\n",
    "                H = min(C, a_j_old + a_i_old)\n",
    "            a_j_new = clip(a_j_new, L, H)\n",
    "            a_i_new = a_i_old + y_i*y_j*(a_j_old - a_j_new)\n",
    "            if abs(a_j_new - a_j_old) < 0.00001:\n",
    "                #print('WARNING   alpha_j not moving enough')\n",
    "                continue\n",
    "            alphas[i], alphas[j] = a_i_new, a_j_new\n",
    "            # 更新阈值b\n",
    "            b_i = -E_i - y_i*K_ii*(a_i_new - a_i_old) - y_j*K_ij*(a_j_new - a_j_old) + b\n",
    "            b_j = -E_j - y_i*K_ij*(a_i_new - a_i_old) - y_j*K_jj*(a_j_new - a_j_old) + b\n",
    "            if 0 < a_i_new < C:\n",
    "                b = b_i\n",
    "            elif 0 < a_j_new < C:\n",
    "                b = b_j\n",
    "            else:\n",
    "                b = (b_i + b_j)/2\n",
    "            pair_changed += 1\n",
    "            print('INFO   iteration:{}  i:{}  pair_changed:{}'.format(it, i, pair_changed))\n",
    "        if pair_changed == 0:\n",
    "            it += 1\n",
    "        else:\n",
    "            it = 0\n",
    "        print('iteration number: {}'.format(it))\n",
    "    return alphas, b"
   ]
  },
  {
   "cell_type": "code",
   "execution_count": 51,
   "metadata": {
    "ExecuteTime": {
     "end_time": "2022-05-20T03:27:05.215638Z",
     "start_time": "2022-05-20T03:26:56.061166Z"
    },
    "slideshow": {
     "slide_type": "subslide"
    }
   },
   "outputs": [
    {
     "name": "stdout",
     "output_type": "stream",
     "text": [
      "INFO   iteration:0  i:4  pair_changed:1\n",
      "INFO   iteration:0  i:6  pair_changed:2\n",
      "INFO   iteration:0  i:7  pair_changed:3\n",
      "INFO   iteration:0  i:17  pair_changed:4\n",
      "INFO   iteration:0  i:24  pair_changed:5\n",
      "INFO   iteration:0  i:29  pair_changed:6\n",
      "INFO   iteration:0  i:55  pair_changed:7\n",
      "INFO   iteration:0  i:62  pair_changed:8\n",
      "INFO   iteration:0  i:91  pair_changed:9\n",
      "iteration number: 0\n",
      "INFO   iteration:0  i:36  pair_changed:1\n",
      "INFO   iteration:0  i:40  pair_changed:2\n",
      "INFO   iteration:0  i:41  pair_changed:3\n",
      "INFO   iteration:0  i:46  pair_changed:4\n",
      "INFO   iteration:0  i:54  pair_changed:5\n",
      "INFO   iteration:0  i:55  pair_changed:6\n",
      "iteration number: 0\n",
      "INFO   iteration:0  i:7  pair_changed:1\n",
      "INFO   iteration:0  i:27  pair_changed:2\n",
      "INFO   iteration:0  i:52  pair_changed:3\n",
      "iteration number: 0\n",
      "INFO   iteration:0  i:0  pair_changed:1\n",
      "INFO   iteration:0  i:4  pair_changed:2\n",
      "INFO   iteration:0  i:27  pair_changed:3\n",
      "INFO   iteration:0  i:54  pair_changed:4\n",
      "INFO   iteration:0  i:62  pair_changed:5\n",
      "INFO   iteration:0  i:97  pair_changed:6\n",
      "iteration number: 0\n",
      "INFO   iteration:0  i:0  pair_changed:1\n",
      "INFO   iteration:0  i:14  pair_changed:2\n",
      "INFO   iteration:0  i:99  pair_changed:3\n",
      "iteration number: 0\n",
      "INFO   iteration:0  i:23  pair_changed:1\n",
      "INFO   iteration:0  i:29  pair_changed:2\n",
      "INFO   iteration:0  i:46  pair_changed:3\n",
      "INFO   iteration:0  i:55  pair_changed:4\n",
      "INFO   iteration:0  i:86  pair_changed:5\n",
      "INFO   iteration:0  i:91  pair_changed:6\n",
      "iteration number: 0\n",
      "INFO   iteration:0  i:23  pair_changed:1\n",
      "INFO   iteration:0  i:29  pair_changed:2\n",
      "INFO   iteration:0  i:54  pair_changed:3\n",
      "iteration number: 0\n",
      "iteration number: 1\n",
      "INFO   iteration:1  i:24  pair_changed:1\n",
      "iteration number: 0\n",
      "INFO   iteration:0  i:23  pair_changed:1\n",
      "INFO   iteration:0  i:52  pair_changed:2\n",
      "iteration number: 0\n",
      "INFO   iteration:0  i:23  pair_changed:1\n",
      "INFO   iteration:0  i:24  pair_changed:2\n",
      "iteration number: 0\n",
      "iteration number: 1\n",
      "iteration number: 2\n",
      "iteration number: 3\n",
      "iteration number: 4\n",
      "INFO   iteration:4  i:54  pair_changed:1\n",
      "INFO   iteration:4  i:86  pair_changed:2\n",
      "iteration number: 0\n",
      "INFO   iteration:0  i:69  pair_changed:1\n",
      "iteration number: 0\n",
      "INFO   iteration:0  i:25  pair_changed:1\n",
      "INFO   iteration:0  i:30  pair_changed:2\n",
      "iteration number: 0\n",
      "iteration number: 1\n",
      "INFO   iteration:1  i:17  pair_changed:1\n",
      "iteration number: 0\n",
      "iteration number: 1\n",
      "INFO   iteration:1  i:27  pair_changed:1\n",
      "INFO   iteration:1  i:30  pair_changed:2\n",
      "iteration number: 0\n",
      "iteration number: 1\n",
      "iteration number: 2\n",
      "iteration number: 3\n",
      "iteration number: 4\n",
      "iteration number: 5\n",
      "INFO   iteration:5  i:29  pair_changed:1\n",
      "INFO   iteration:5  i:54  pair_changed:2\n",
      "iteration number: 0\n",
      "INFO   iteration:0  i:29  pair_changed:1\n",
      "iteration number: 0\n",
      "iteration number: 1\n",
      "iteration number: 2\n",
      "iteration number: 3\n",
      "INFO   iteration:3  i:52  pair_changed:1\n",
      "iteration number: 0\n",
      "INFO   iteration:0  i:55  pair_changed:1\n",
      "iteration number: 0\n",
      "iteration number: 1\n",
      "INFO   iteration:1  i:23  pair_changed:1\n",
      "INFO   iteration:1  i:54  pair_changed:2\n",
      "iteration number: 0\n",
      "iteration number: 1\n",
      "iteration number: 2\n",
      "iteration number: 3\n",
      "INFO   iteration:3  i:29  pair_changed:1\n",
      "INFO   iteration:3  i:54  pair_changed:2\n",
      "iteration number: 0\n",
      "iteration number: 1\n",
      "INFO   iteration:1  i:29  pair_changed:1\n",
      "iteration number: 0\n",
      "iteration number: 1\n",
      "iteration number: 2\n",
      "iteration number: 3\n",
      "iteration number: 4\n",
      "iteration number: 5\n",
      "iteration number: 6\n",
      "INFO   iteration:6  i:23  pair_changed:1\n",
      "iteration number: 0\n",
      "iteration number: 1\n",
      "iteration number: 2\n",
      "INFO   iteration:2  i:55  pair_changed:1\n",
      "iteration number: 0\n",
      "iteration number: 1\n",
      "iteration number: 2\n",
      "iteration number: 3\n",
      "iteration number: 4\n",
      "iteration number: 5\n",
      "iteration number: 6\n",
      "iteration number: 7\n",
      "iteration number: 8\n",
      "iteration number: 9\n",
      "iteration number: 10\n",
      "iteration number: 11\n",
      "iteration number: 12\n",
      "INFO   iteration:12  i:52  pair_changed:1\n",
      "iteration number: 0\n",
      "iteration number: 1\n",
      "iteration number: 2\n",
      "iteration number: 3\n",
      "iteration number: 4\n",
      "INFO   iteration:4  i:29  pair_changed:1\n",
      "iteration number: 0\n",
      "INFO   iteration:0  i:54  pair_changed:1\n",
      "iteration number: 0\n",
      "INFO   iteration:0  i:17  pair_changed:1\n",
      "iteration number: 0\n",
      "iteration number: 1\n",
      "iteration number: 2\n",
      "iteration number: 3\n",
      "INFO   iteration:3  i:29  pair_changed:1\n",
      "INFO   iteration:3  i:54  pair_changed:2\n",
      "iteration number: 0\n",
      "iteration number: 1\n",
      "INFO   iteration:1  i:23  pair_changed:1\n",
      "iteration number: 0\n",
      "iteration number: 1\n",
      "INFO   iteration:1  i:29  pair_changed:1\n",
      "iteration number: 0\n",
      "iteration number: 1\n",
      "iteration number: 2\n",
      "iteration number: 3\n",
      "iteration number: 4\n",
      "iteration number: 5\n",
      "INFO   iteration:5  i:52  pair_changed:1\n",
      "iteration number: 0\n",
      "iteration number: 1\n",
      "iteration number: 2\n",
      "iteration number: 3\n",
      "iteration number: 4\n",
      "iteration number: 5\n",
      "iteration number: 6\n",
      "iteration number: 7\n",
      "iteration number: 8\n",
      "iteration number: 9\n",
      "iteration number: 10\n",
      "iteration number: 11\n",
      "iteration number: 12\n",
      "iteration number: 13\n",
      "iteration number: 14\n",
      "iteration number: 15\n",
      "iteration number: 16\n",
      "iteration number: 17\n",
      "iteration number: 18\n",
      "iteration number: 19\n",
      "iteration number: 20\n",
      "INFO   iteration:20  i:23  pair_changed:1\n",
      "INFO   iteration:20  i:55  pair_changed:2\n",
      "iteration number: 0\n",
      "iteration number: 1\n",
      "iteration number: 2\n",
      "iteration number: 3\n",
      "iteration number: 4\n",
      "INFO   iteration:4  i:54  pair_changed:1\n",
      "iteration number: 0\n",
      "iteration number: 1\n",
      "iteration number: 2\n",
      "iteration number: 3\n",
      "iteration number: 4\n",
      "iteration number: 5\n",
      "iteration number: 6\n",
      "iteration number: 7\n",
      "iteration number: 8\n",
      "iteration number: 9\n",
      "iteration number: 10\n",
      "INFO   iteration:10  i:17  pair_changed:1\n",
      "INFO   iteration:10  i:54  pair_changed:2\n",
      "iteration number: 0\n",
      "iteration number: 1\n",
      "iteration number: 2\n",
      "iteration number: 3\n",
      "iteration number: 4\n",
      "iteration number: 5\n",
      "INFO   iteration:5  i:55  pair_changed:1\n",
      "iteration number: 0\n",
      "iteration number: 1\n",
      "iteration number: 2\n",
      "INFO   iteration:2  i:54  pair_changed:1\n",
      "iteration number: 0\n",
      "iteration number: 1\n",
      "iteration number: 2\n",
      "INFO   iteration:2  i:55  pair_changed:1\n",
      "iteration number: 0\n",
      "iteration number: 1\n",
      "iteration number: 2\n",
      "iteration number: 3\n",
      "INFO   iteration:3  i:55  pair_changed:1\n",
      "iteration number: 0\n",
      "INFO   iteration:0  i:17  pair_changed:1\n",
      "iteration number: 0\n",
      "INFO   iteration:0  i:55  pair_changed:1\n",
      "iteration number: 0\n",
      "iteration number: 1\n",
      "iteration number: 2\n",
      "iteration number: 3\n",
      "iteration number: 4\n",
      "INFO   iteration:4  i:52  pair_changed:1\n",
      "INFO   iteration:4  i:55  pair_changed:2\n",
      "iteration number: 0\n",
      "INFO   iteration:0  i:29  pair_changed:1\n",
      "iteration number: 0\n",
      "iteration number: 1\n",
      "iteration number: 2\n",
      "iteration number: 3\n",
      "iteration number: 4\n",
      "iteration number: 5\n",
      "iteration number: 6\n",
      "iteration number: 7\n",
      "iteration number: 8\n",
      "iteration number: 9\n",
      "INFO   iteration:9  i:55  pair_changed:1\n",
      "iteration number: 0\n",
      "INFO   iteration:0  i:52  pair_changed:1\n",
      "iteration number: 0\n",
      "INFO   iteration:0  i:17  pair_changed:1\n",
      "iteration number: 0\n",
      "INFO   iteration:0  i:29  pair_changed:1\n",
      "iteration number: 0\n",
      "INFO   iteration:0  i:29  pair_changed:1\n",
      "iteration number: 0\n",
      "iteration number: 1\n",
      "INFO   iteration:1  i:52  pair_changed:1\n",
      "iteration number: 0\n",
      "iteration number: 1\n",
      "iteration number: 2\n",
      "iteration number: 3\n",
      "iteration number: 4\n",
      "iteration number: 5\n",
      "iteration number: 6\n",
      "iteration number: 7\n",
      "iteration number: 8\n",
      "iteration number: 9\n",
      "iteration number: 10\n",
      "INFO   iteration:10  i:29  pair_changed:1\n",
      "iteration number: 0\n",
      "iteration number: 1\n",
      "iteration number: 2\n",
      "iteration number: 3\n",
      "iteration number: 4\n",
      "INFO   iteration:4  i:17  pair_changed:1\n",
      "INFO   iteration:4  i:54  pair_changed:2\n",
      "iteration number: 0\n",
      "iteration number: 1\n",
      "iteration number: 2\n",
      "iteration number: 3\n",
      "iteration number: 4\n",
      "iteration number: 5\n",
      "iteration number: 6\n",
      "iteration number: 7\n",
      "iteration number: 8\n",
      "iteration number: 9\n",
      "iteration number: 10\n",
      "iteration number: 11\n",
      "iteration number: 12\n",
      "iteration number: 13\n",
      "iteration number: 14\n",
      "INFO   iteration:14  i:54  pair_changed:1\n",
      "iteration number: 0\n",
      "iteration number: 1\n",
      "iteration number: 2\n",
      "iteration number: 3\n",
      "iteration number: 4\n",
      "INFO   iteration:4  i:52  pair_changed:1\n",
      "iteration number: 0\n",
      "iteration number: 1\n",
      "INFO   iteration:1  i:54  pair_changed:1\n",
      "iteration number: 0\n",
      "INFO   iteration:0  i:55  pair_changed:1\n",
      "iteration number: 0\n",
      "INFO   iteration:0  i:17  pair_changed:1\n",
      "iteration number: 0\n",
      "iteration number: 1\n",
      "INFO   iteration:1  i:23  pair_changed:1\n",
      "INFO   iteration:1  i:29  pair_changed:2\n",
      "iteration number: 0\n",
      "iteration number: 1\n",
      "iteration number: 2\n",
      "iteration number: 3\n",
      "INFO   iteration:3  i:29  pair_changed:1\n",
      "INFO   iteration:3  i:54  pair_changed:2\n",
      "iteration number: 0\n",
      "iteration number: 1\n",
      "iteration number: 2\n"
     ]
    },
    {
     "name": "stdout",
     "output_type": "stream",
     "text": [
      "iteration number: 3\n",
      "iteration number: 4\n",
      "INFO   iteration:4  i:52  pair_changed:1\n",
      "INFO   iteration:4  i:54  pair_changed:2\n",
      "INFO   iteration:4  i:55  pair_changed:3\n",
      "iteration number: 0\n",
      "iteration number: 1\n",
      "iteration number: 2\n",
      "INFO   iteration:2  i:54  pair_changed:1\n",
      "iteration number: 0\n",
      "INFO   iteration:0  i:29  pair_changed:1\n",
      "iteration number: 0\n",
      "iteration number: 1\n",
      "iteration number: 2\n",
      "iteration number: 3\n",
      "iteration number: 4\n",
      "iteration number: 5\n",
      "iteration number: 6\n",
      "iteration number: 7\n",
      "iteration number: 8\n",
      "iteration number: 9\n",
      "iteration number: 10\n",
      "iteration number: 11\n",
      "iteration number: 12\n",
      "iteration number: 13\n",
      "INFO   iteration:13  i:54  pair_changed:1\n",
      "iteration number: 0\n",
      "iteration number: 1\n",
      "iteration number: 2\n",
      "iteration number: 3\n",
      "iteration number: 4\n",
      "iteration number: 5\n",
      "iteration number: 6\n",
      "iteration number: 7\n",
      "iteration number: 8\n",
      "iteration number: 9\n",
      "iteration number: 10\n",
      "iteration number: 11\n",
      "iteration number: 12\n",
      "iteration number: 13\n",
      "iteration number: 14\n",
      "iteration number: 15\n",
      "INFO   iteration:15  i:54  pair_changed:1\n",
      "iteration number: 0\n",
      "iteration number: 1\n",
      "iteration number: 2\n",
      "iteration number: 3\n",
      "iteration number: 4\n",
      "iteration number: 5\n",
      "iteration number: 6\n",
      "iteration number: 7\n",
      "iteration number: 8\n",
      "iteration number: 9\n",
      "iteration number: 10\n",
      "iteration number: 11\n",
      "iteration number: 12\n",
      "iteration number: 13\n",
      "iteration number: 14\n",
      "iteration number: 15\n",
      "iteration number: 16\n",
      "iteration number: 17\n",
      "iteration number: 18\n",
      "iteration number: 19\n",
      "iteration number: 20\n",
      "iteration number: 21\n",
      "iteration number: 22\n",
      "iteration number: 23\n",
      "iteration number: 24\n",
      "iteration number: 25\n",
      "iteration number: 26\n",
      "iteration number: 27\n",
      "iteration number: 28\n",
      "iteration number: 29\n",
      "iteration number: 30\n",
      "iteration number: 31\n",
      "iteration number: 32\n",
      "iteration number: 33\n",
      "INFO   iteration:33  i:55  pair_changed:1\n",
      "iteration number: 0\n",
      "iteration number: 1\n",
      "iteration number: 2\n",
      "iteration number: 3\n",
      "iteration number: 4\n",
      "iteration number: 5\n",
      "iteration number: 6\n",
      "iteration number: 7\n",
      "iteration number: 8\n",
      "iteration number: 9\n",
      "iteration number: 10\n",
      "iteration number: 11\n",
      "iteration number: 12\n",
      "iteration number: 13\n",
      "INFO   iteration:13  i:29  pair_changed:1\n",
      "iteration number: 0\n",
      "iteration number: 1\n",
      "iteration number: 2\n",
      "iteration number: 3\n",
      "iteration number: 4\n",
      "iteration number: 5\n",
      "iteration number: 6\n",
      "iteration number: 7\n",
      "INFO   iteration:7  i:55  pair_changed:1\n",
      "iteration number: 0\n",
      "iteration number: 1\n",
      "iteration number: 2\n",
      "iteration number: 3\n",
      "iteration number: 4\n",
      "iteration number: 5\n",
      "iteration number: 6\n",
      "iteration number: 7\n",
      "INFO   iteration:7  i:55  pair_changed:1\n",
      "iteration number: 0\n",
      "iteration number: 1\n",
      "INFO   iteration:1  i:52  pair_changed:1\n",
      "iteration number: 0\n",
      "INFO   iteration:0  i:29  pair_changed:1\n",
      "iteration number: 0\n",
      "iteration number: 1\n",
      "iteration number: 2\n",
      "iteration number: 3\n",
      "iteration number: 4\n",
      "iteration number: 5\n",
      "iteration number: 6\n",
      "iteration number: 7\n",
      "iteration number: 8\n",
      "iteration number: 9\n",
      "iteration number: 10\n",
      "iteration number: 11\n",
      "iteration number: 12\n",
      "iteration number: 13\n",
      "iteration number: 14\n",
      "iteration number: 15\n",
      "iteration number: 16\n",
      "iteration number: 17\n",
      "iteration number: 18\n",
      "INFO   iteration:18  i:55  pair_changed:1\n",
      "iteration number: 0\n",
      "iteration number: 1\n",
      "iteration number: 2\n",
      "INFO   iteration:2  i:52  pair_changed:1\n",
      "iteration number: 0\n",
      "iteration number: 1\n",
      "iteration number: 2\n",
      "iteration number: 3\n",
      "iteration number: 4\n",
      "iteration number: 5\n",
      "iteration number: 6\n",
      "iteration number: 7\n",
      "iteration number: 8\n",
      "INFO   iteration:8  i:17  pair_changed:1\n",
      "iteration number: 0\n",
      "iteration number: 1\n",
      "iteration number: 2\n",
      "INFO   iteration:2  i:55  pair_changed:1\n",
      "iteration number: 0\n",
      "iteration number: 1\n",
      "iteration number: 2\n",
      "iteration number: 3\n",
      "iteration number: 4\n",
      "iteration number: 5\n",
      "iteration number: 6\n",
      "iteration number: 7\n",
      "iteration number: 8\n",
      "iteration number: 9\n",
      "iteration number: 10\n",
      "INFO   iteration:10  i:29  pair_changed:1\n",
      "iteration number: 0\n",
      "iteration number: 1\n",
      "iteration number: 2\n",
      "INFO   iteration:2  i:29  pair_changed:1\n",
      "iteration number: 0\n",
      "iteration number: 1\n",
      "iteration number: 2\n",
      "INFO   iteration:2  i:55  pair_changed:1\n",
      "iteration number: 0\n",
      "iteration number: 1\n",
      "iteration number: 2\n",
      "iteration number: 3\n",
      "iteration number: 4\n",
      "iteration number: 5\n",
      "INFO   iteration:5  i:17  pair_changed:1\n",
      "iteration number: 0\n",
      "iteration number: 1\n",
      "iteration number: 2\n",
      "iteration number: 3\n",
      "iteration number: 4\n",
      "iteration number: 5\n",
      "iteration number: 6\n",
      "iteration number: 7\n",
      "iteration number: 8\n",
      "iteration number: 9\n",
      "iteration number: 10\n",
      "iteration number: 11\n",
      "iteration number: 12\n",
      "iteration number: 13\n",
      "iteration number: 14\n",
      "INFO   iteration:14  i:55  pair_changed:1\n",
      "iteration number: 0\n",
      "iteration number: 1\n",
      "iteration number: 2\n",
      "iteration number: 3\n",
      "iteration number: 4\n",
      "INFO   iteration:4  i:54  pair_changed:1\n",
      "iteration number: 0\n",
      "iteration number: 1\n",
      "iteration number: 2\n",
      "INFO   iteration:2  i:17  pair_changed:1\n",
      "iteration number: 0\n",
      "iteration number: 1\n",
      "iteration number: 2\n",
      "iteration number: 3\n",
      "iteration number: 4\n",
      "iteration number: 5\n",
      "iteration number: 6\n",
      "iteration number: 7\n",
      "INFO   iteration:7  i:54  pair_changed:1\n",
      "iteration number: 0\n",
      "iteration number: 1\n",
      "iteration number: 2\n",
      "iteration number: 3\n",
      "iteration number: 4\n",
      "iteration number: 5\n",
      "iteration number: 6\n",
      "iteration number: 7\n",
      "iteration number: 8\n",
      "iteration number: 9\n",
      "iteration number: 10\n",
      "iteration number: 11\n",
      "iteration number: 12\n",
      "iteration number: 13\n",
      "iteration number: 14\n",
      "iteration number: 15\n",
      "iteration number: 16\n",
      "iteration number: 17\n",
      "iteration number: 18\n",
      "iteration number: 19\n",
      "iteration number: 20\n",
      "iteration number: 21\n",
      "iteration number: 22\n",
      "iteration number: 23\n",
      "iteration number: 24\n",
      "iteration number: 25\n",
      "INFO   iteration:25  i:17  pair_changed:1\n",
      "iteration number: 0\n",
      "iteration number: 1\n",
      "iteration number: 2\n",
      "iteration number: 3\n",
      "iteration number: 4\n",
      "iteration number: 5\n",
      "iteration number: 6\n",
      "iteration number: 7\n",
      "INFO   iteration:7  i:55  pair_changed:1\n",
      "iteration number: 0\n",
      "iteration number: 1\n",
      "INFO   iteration:1  i:55  pair_changed:1\n",
      "iteration number: 0\n",
      "iteration number: 1\n",
      "iteration number: 2\n",
      "iteration number: 3\n",
      "INFO   iteration:3  i:23  pair_changed:1\n",
      "iteration number: 0\n",
      "iteration number: 1\n",
      "iteration number: 2\n",
      "iteration number: 3\n",
      "iteration number: 4\n",
      "iteration number: 5\n",
      "iteration number: 6\n",
      "iteration number: 7\n",
      "iteration number: 8\n",
      "iteration number: 9\n",
      "iteration number: 10\n",
      "iteration number: 11\n",
      "iteration number: 12\n",
      "iteration number: 13\n",
      "iteration number: 14\n",
      "iteration number: 15\n",
      "iteration number: 16\n",
      "iteration number: 17\n",
      "iteration number: 18\n",
      "iteration number: 19\n",
      "iteration number: 20\n",
      "iteration number: 21\n",
      "iteration number: 22\n",
      "iteration number: 23\n",
      "iteration number: 24\n",
      "iteration number: 25\n",
      "iteration number: 26\n",
      "iteration number: 27\n",
      "iteration number: 28\n",
      "iteration number: 29\n",
      "iteration number: 30\n",
      "INFO   iteration:30  i:54  pair_changed:1\n",
      "iteration number: 0\n",
      "iteration number: 1\n",
      "iteration number: 2\n",
      "iteration number: 3\n",
      "INFO   iteration:3  i:54  pair_changed:1\n",
      "iteration number: 0\n",
      "iteration number: 1\n",
      "iteration number: 2\n",
      "iteration number: 3\n",
      "iteration number: 4\n",
      "iteration number: 5\n",
      "iteration number: 6\n",
      "iteration number: 7\n",
      "iteration number: 8\n",
      "iteration number: 9\n",
      "iteration number: 10\n",
      "iteration number: 11\n",
      "iteration number: 12\n",
      "iteration number: 13\n",
      "INFO   iteration:13  i:29  pair_changed:1\n",
      "iteration number: 0\n",
      "iteration number: 1\n",
      "iteration number: 2\n",
      "iteration number: 3\n",
      "iteration number: 4\n",
      "iteration number: 5\n",
      "iteration number: 6\n",
      "iteration number: 7\n",
      "iteration number: 8\n",
      "iteration number: 9\n",
      "iteration number: 10\n",
      "iteration number: 11\n",
      "iteration number: 12\n",
      "iteration number: 13\n",
      "iteration number: 14\n",
      "iteration number: 15\n",
      "iteration number: 16\n",
      "iteration number: 17\n",
      "iteration number: 18\n",
      "iteration number: 19\n",
      "iteration number: 20\n",
      "iteration number: 21\n",
      "iteration number: 22\n",
      "iteration number: 23\n",
      "iteration number: 24\n",
      "iteration number: 25\n",
      "iteration number: 26\n",
      "iteration number: 27\n",
      "iteration number: 28\n",
      "iteration number: 29\n",
      "iteration number: 30\n",
      "INFO   iteration:30  i:17  pair_changed:1\n",
      "iteration number: 0\n",
      "iteration number: 1\n",
      "iteration number: 2\n",
      "iteration number: 3\n",
      "iteration number: 4\n",
      "iteration number: 5\n",
      "iteration number: 6\n",
      "iteration number: 7\n",
      "iteration number: 8\n",
      "iteration number: 9\n",
      "iteration number: 10\n",
      "iteration number: 11\n",
      "iteration number: 12\n",
      "iteration number: 13\n",
      "iteration number: 14\n",
      "iteration number: 15\n",
      "iteration number: 16\n",
      "iteration number: 17\n",
      "INFO   iteration:17  i:55  pair_changed:1\n",
      "iteration number: 0\n",
      "iteration number: 1\n",
      "iteration number: 2\n",
      "iteration number: 3\n",
      "iteration number: 4\n",
      "iteration number: 5\n"
     ]
    },
    {
     "name": "stdout",
     "output_type": "stream",
     "text": [
      "iteration number: 6\n",
      "iteration number: 7\n",
      "iteration number: 8\n",
      "iteration number: 9\n",
      "iteration number: 10\n",
      "iteration number: 11\n",
      "iteration number: 12\n",
      "INFO   iteration:12  i:17  pair_changed:1\n",
      "iteration number: 0\n",
      "iteration number: 1\n",
      "iteration number: 2\n",
      "iteration number: 3\n",
      "iteration number: 4\n",
      "iteration number: 5\n",
      "iteration number: 6\n",
      "iteration number: 7\n",
      "iteration number: 8\n",
      "iteration number: 9\n",
      "iteration number: 10\n",
      "iteration number: 11\n",
      "iteration number: 12\n",
      "iteration number: 13\n",
      "iteration number: 14\n",
      "iteration number: 15\n",
      "iteration number: 16\n",
      "iteration number: 17\n",
      "iteration number: 18\n",
      "iteration number: 19\n",
      "iteration number: 20\n",
      "iteration number: 21\n",
      "iteration number: 22\n",
      "iteration number: 23\n",
      "iteration number: 24\n",
      "iteration number: 25\n",
      "iteration number: 26\n",
      "iteration number: 27\n",
      "iteration number: 28\n",
      "iteration number: 29\n",
      "iteration number: 30\n",
      "iteration number: 31\n",
      "iteration number: 32\n",
      "iteration number: 33\n",
      "iteration number: 34\n",
      "iteration number: 35\n",
      "iteration number: 36\n",
      "iteration number: 37\n",
      "INFO   iteration:37  i:17  pair_changed:1\n",
      "iteration number: 0\n",
      "iteration number: 1\n",
      "iteration number: 2\n",
      "iteration number: 3\n",
      "iteration number: 4\n",
      "iteration number: 5\n",
      "iteration number: 6\n",
      "iteration number: 7\n",
      "iteration number: 8\n",
      "iteration number: 9\n",
      "iteration number: 10\n",
      "iteration number: 11\n",
      "iteration number: 12\n",
      "iteration number: 13\n",
      "iteration number: 14\n",
      "iteration number: 15\n",
      "iteration number: 16\n",
      "iteration number: 17\n",
      "iteration number: 18\n",
      "iteration number: 19\n",
      "iteration number: 20\n",
      "iteration number: 21\n",
      "INFO   iteration:21  i:55  pair_changed:1\n",
      "iteration number: 0\n",
      "iteration number: 1\n",
      "iteration number: 2\n",
      "iteration number: 3\n",
      "iteration number: 4\n",
      "INFO   iteration:4  i:17  pair_changed:1\n",
      "iteration number: 0\n",
      "iteration number: 1\n",
      "iteration number: 2\n",
      "iteration number: 3\n",
      "iteration number: 4\n",
      "iteration number: 5\n",
      "iteration number: 6\n",
      "iteration number: 7\n",
      "iteration number: 8\n",
      "iteration number: 9\n",
      "iteration number: 10\n",
      "iteration number: 11\n",
      "iteration number: 12\n",
      "iteration number: 13\n",
      "iteration number: 14\n",
      "iteration number: 15\n",
      "iteration number: 16\n",
      "iteration number: 17\n",
      "iteration number: 18\n",
      "iteration number: 19\n",
      "iteration number: 20\n",
      "iteration number: 21\n",
      "iteration number: 22\n",
      "iteration number: 23\n",
      "iteration number: 24\n",
      "iteration number: 25\n",
      "iteration number: 26\n",
      "iteration number: 27\n",
      "iteration number: 28\n",
      "iteration number: 29\n",
      "iteration number: 30\n",
      "iteration number: 31\n",
      "iteration number: 32\n",
      "iteration number: 33\n",
      "INFO   iteration:33  i:29  pair_changed:1\n",
      "iteration number: 0\n",
      "iteration number: 1\n",
      "iteration number: 2\n",
      "iteration number: 3\n",
      "iteration number: 4\n",
      "iteration number: 5\n",
      "iteration number: 6\n",
      "iteration number: 7\n",
      "iteration number: 8\n",
      "iteration number: 9\n",
      "iteration number: 10\n",
      "iteration number: 11\n",
      "iteration number: 12\n",
      "iteration number: 13\n",
      "iteration number: 14\n",
      "iteration number: 15\n",
      "iteration number: 16\n",
      "iteration number: 17\n",
      "iteration number: 18\n",
      "iteration number: 19\n",
      "iteration number: 20\n",
      "iteration number: 21\n",
      "iteration number: 22\n",
      "iteration number: 23\n",
      "iteration number: 24\n",
      "iteration number: 25\n",
      "iteration number: 26\n",
      "iteration number: 27\n",
      "iteration number: 28\n",
      "iteration number: 29\n",
      "iteration number: 30\n",
      "iteration number: 31\n",
      "iteration number: 32\n",
      "iteration number: 33\n",
      "iteration number: 34\n",
      "iteration number: 35\n",
      "iteration number: 36\n",
      "iteration number: 37\n",
      "iteration number: 38\n",
      "iteration number: 39\n",
      "iteration number: 40\n"
     ]
    },
    {
     "data": {
      "image/png": "[encoded data removed]",
      "text/plain": [
       "<Figure size 432x288 with 1 Axes>"
      ]
     },
     "metadata": {
      "needs_background": "light"
     },
     "output_type": "display_data"
    }
   ],
   "source": [
    "# 加载训练数据\n",
    "dataset, labels = load_data('testSet.txt')\n",
    "# 使用简化版SMO算法优化SVM\n",
    "alphas, b = simple_smo(dataset, labels, 0.6, 40)\n",
    "# 分类数据点\n",
    "classified_pts = {'+1': [], '-1': []}\n",
    "for point, label in zip(dataset, labels):\n",
    "    if label == 1.0:\n",
    "        classified_pts['+1'].append(point)\n",
    "    else:\n",
    "        classified_pts['-1'].append(point)\n",
    "\n"
   ]
  },
  {
   "cell_type": "code",
   "execution_count": 53,
   "metadata": {
    "ExecuteTime": {
     "end_time": "2022-05-20T03:27:38.375874Z",
     "start_time": "2022-05-20T03:27:38.219859Z"
    },
    "slideshow": {
     "slide_type": "subslide"
    }
   },
   "outputs": [
    {
     "data": {
      "image/png": "[encoded data removed]",
      "text/plain": [
       "<Figure size 432x288 with 1 Axes>"
      ]
     },
     "metadata": {
      "needs_background": "light"
     },
     "output_type": "display_data"
    }
   ],
   "source": [
    "fig = plt.figure()\n",
    "ax = fig.add_subplot(111)\n",
    "# 绘制数据点\n",
    "for label, pts in classified_pts.items():\n",
    "    pts = np.array(pts)\n",
    "    ax.scatter(pts[:, 0], pts[:, 1], label=label)\n",
    "# 绘制分割线\n",
    "w = get_w(alphas, dataset, labels)\n",
    "x1, _ = max(dataset, key=lambda x: x[0])\n",
    "x2, _ = min(dataset, key=lambda x: x[0])\n",
    "a1, a2 = w\n",
    "y1, y2 = (-b - a1*x1)/a2, (-b - a1*x2)/a2\n",
    "ax.plot([x1, x2], [y1, y2])\n",
    "# 绘制支持向量\n",
    "for i, alpha in enumerate(alphas):\n",
    "    if abs(alpha) > 1e-3:\n",
    "        x, y = dataset[i]\n",
    "        ax.scatter([x], [y], s=150, c='none', alpha=0.7,\n",
    "                   linewidth=1.5, edgecolor='#AB3319')\n",
    "plt.show()"
   ]
  },
  {
   "cell_type": "markdown",
   "metadata": {
    "slideshow": {
     "slide_type": "subslide"
    }
   },
   "source": [
    "如果数据不可分,引入一个错误分类的可能性:\n",
    "![](https://s2.loli.net/2022/05/12/KOLXk1y68geYjVG.png)\n",
    "\n",
    "hinge损失\n",
    "$$\n",
    "\\mathop{argmin}_{w,b}\\frac{1}{2}w^Tw+C\\sum\\limits_{i=1}^N\\xi_i\\ s.t.\\ y_i(w^Tx_i+b)\\ge1-\\xi_i,\\xi_i\\ge0,i=1,2,\\cdots,N\n",
    "$$\n",
    "解释:\n",
    " $\\xi_i=1-y_i(w^Tx_i+b)$,$y_i(w^Tx+b)\\ge1-\\xi_i$是部分违反约束的\n",
    " $$\n",
    " \\mathop{argmin}_{w,b}\\frac{1}{2}w^Tw+C\\sum\\limits_{i=1}^N\\max\\{0,1-y_i(w^Tx_i+b)\\}\\ s.t.\\ y_i(w^Tx_i+b)\\ge1-\\xi_i,i=1,2,\\cdots,N\n",
    " $$\n",
    " \n"
   ]
  },
  {
   "cell_type": "markdown",
   "metadata": {
    "slideshow": {
     "slide_type": "subslide"
    }
   },
   "source": [
    "Kernel Method\n",
    "1. 非线性带来高维转换(转换的角度)\n",
    "2. 对偶表示带来内积(优化的角度)\n",
    "对于线性可分问题,可以直接使用SVM来进行分类,对于有一点点错误的分类问题可以使用带有错误的SVM,而对于严格非线性可分的问题,则需要借助于核方法,将原来在低维线性不可分的问题转换到高维线性可分问题上来.\n",
    "例题:异或\n",
    "![](https://s2.loli.net/2022/05/12/1AusCIZH9KdyQn6.png)\n",
    "\n"
   ]
  },
  {
   "cell_type": "markdown",
   "metadata": {
    "slideshow": {
     "slide_type": "subslide"
    }
   },
   "source": [
    "$$\n",
    "\\forall x,x'\\in\\mathcal{X},\\exists \\phi\\in\\mathcal{H}:x\\rightarrow z\\ s.t.\\ k(x,x')=\\phi(x)^T\\phi(x)\n",
    "$$\n",
    "\n",
    "\\begin{align}\n",
    "\\max _{\\boldsymbol{\\alpha}} & \\sum_{i=1}^{m} \\alpha_{i}-\\frac{1}{2} \\sum_{i=1}^{m} \\sum_{j=1}^{m} \\alpha_{i} \\alpha_{j} y_{i} y_{j} \\kappa\\left(\\boldsymbol{x}_{i}, \\boldsymbol{x}_{j}\\right) \\\\\n",
    "\\text { s.t. } & \\sum_{i=1}^{m} \\alpha_{i} y_{i}=0 \\\\\n",
    "& \\alpha_{i} \\geqslant 0, \\quad i=1,2, \\ldots, m .\n",
    "\\end{align}\n"
   ]
  },
  {
   "cell_type": "markdown",
   "metadata": {
    "slideshow": {
     "slide_type": "slide"
    }
   },
   "source": [
    "## Underfitting and Overfitting\n",
    "\n",
    "1. training error: 模型在训练数据上的误差\n",
    "2. Generalization error : 模型新数据上的误差\n",
    "\n",
    "![](https://s2.loli.net/2022/05/12/PUJjIfuzkBGeSAn.png)"
   ]
  },
  {
   "cell_type": "markdown",
   "metadata": {
    "slideshow": {
     "slide_type": "subslide"
    }
   },
   "source": [
    "\n",
    "<table rules=\"none\" align=\"center\">\n",
    "\t<tr>\n",
    "\t\t<td>\n",
    "\t\t\t<center>\n",
    "\t\t\t\t<img src=\"https://s2.loli.net/2022/05/12/EpuHrt673UD4LzB.png\" width=\"75%\" />\n",
    "\t\t\t\t<br/>\n",
    "\t\t\t\t<font color=\"000000\">Underfitting</font>\n",
    "\t\t\t</center>\n",
    "\t\t</td>\n",
    "\t\t<td>\n",
    "\t\t\t<center>\n",
    "\t\t\t\t<img src=\"https://s2.loli.net/2022/05/12/JuYzbEyqroj92kR.png\" width=\"75%\" />\n",
    "\t\t\t\t<br/>\n",
    "\t\t\t\t<font color=\"000000\">normal</font>\n",
    "\t\t\t</center>\n",
    "\t\t</td>\n",
    "        <td>\n",
    "\t\t\t<center>\n",
    "\t\t\t\t<img src=\"https://s2.loli.net/2022/05/12/fjGSulp8nLA54V9.png\" width=\"75%\" />\n",
    "\t\t\t\t<br/>\n",
    "\t\t\t\t<font color=\"000000\">Overfitting</font>\n",
    "\t\t\t</center>\n",
    "\t\t</td>\n",
    "\t</tr>\n",
    "</table>"
   ]
  },
  {
   "cell_type": "code",
   "execution_count": 12,
   "metadata": {
    "ExecuteTime": {
     "end_time": "2022-05-20T03:00:57.466730Z",
     "start_time": "2022-05-20T03:00:56.287738Z"
    },
    "slideshow": {
     "slide_type": "subslide"
    }
   },
   "outputs": [],
   "source": [
    "import numpy as np\n",
    "import matplotlib.pyplot as plt\n",
    "from sklearn.pipeline import Pipeline\n",
    "from sklearn.preprocessing import PolynomialFeatures\n",
    "from sklearn.linear_model import LinearRegression\n",
    "from sklearn.model_selection import cross_val_score"
   ]
  },
  {
   "cell_type": "code",
   "execution_count": 13,
   "metadata": {
    "ExecuteTime": {
     "end_time": "2022-05-20T03:01:42.470266Z",
     "start_time": "2022-05-20T03:01:42.467269Z"
    },
    "slideshow": {
     "slide_type": "subslide"
    }
   },
   "outputs": [],
   "source": [
    "# y = cos(1.5*pi*X)\n",
    "def true_fun(X):\n",
    "    return np.cos(1.5 * np.pi * X)"
   ]
  },
  {
   "cell_type": "code",
   "execution_count": 14,
   "metadata": {
    "ExecuteTime": {
     "end_time": "2022-05-20T03:02:37.282987Z",
     "start_time": "2022-05-20T03:02:37.271986Z"
    },
    "slideshow": {
     "slide_type": "subslide"
    }
   },
   "outputs": [],
   "source": [
    "np.random.seed(0)\n",
    "n_samples = 30\n",
    "degrees = [1, 4, 15]\n",
    "# Samples\n",
    "X = np.sort(np.random.rand(n_samples))\n",
    "y = true_fun(X) + np.random.randn(n_samples) * 0.1"
   ]
  },
  {
   "cell_type": "code",
   "execution_count": 15,
   "metadata": {
    "ExecuteTime": {
     "end_time": "2022-05-20T03:03:46.586638Z",
     "start_time": "2022-05-20T03:03:46.223547Z"
    },
    "slideshow": {
     "slide_type": "subslide"
    }
   },
   "outputs": [
    {
     "data": {
      "image/png": "[encoded data removed]",
      "text/plain": [
       "<Figure size 1008x360 with 3 Axes>"
      ]
     },
     "metadata": {},
     "output_type": "display_data"
    }
   ],
   "source": [
    "plt.figure(figsize=(14, 5))\n",
    "for i in range(len(degrees)):\n",
    "    ax = plt.subplot(1, len(degrees), i + 1)\n",
    "    plt.setp(ax, xticks=(), yticks=())\n",
    "    polynomial_features = PolynomialFeatures(degree=degrees[i], include_bias=False)\n",
    "    linear_regression = LinearRegression()\n",
    "    pipeline = Pipeline([ (\"polynomial_features\", polynomial_features),\n",
    "            (\"linear_regression\", linear_regression),])\n",
    "    pipeline.fit(X[:, np.newaxis], y)\n",
    "    # Evaluate the models using crossvalidation\n",
    "    scores = cross_val_score(\n",
    "        pipeline, X[:, np.newaxis], y, scoring=\"neg_mean_squared_error\", cv=10\n",
    "    )\n",
    "    X_test = np.linspace(0, 1, 100)\n",
    "    plt.plot(X_test, pipeline.predict(X_test[:, np.newaxis]), label=\"Model\")\n",
    "    plt.plot(X_test, true_fun(X_test), label=\"True function\")\n",
    "    plt.scatter(X, y, edgecolor=\"b\", s=20, label=\"Samples\")\n",
    "    plt.xlabel(\"x\")\n",
    "    plt.ylabel(\"y\")\n",
    "    plt.xlim((0, 1))\n",
    "    plt.ylim((-2, 2))\n",
    "    plt.legend(loc=\"best\")\n",
    "    plt.title(\n",
    "        \"Degree {}\\nMSE = {:.2e}(+/- {:.2e})\".format(\n",
    "            degrees[i], -scores.mean(), scores.std()\n",
    "        )\n",
    "    )\n",
    "plt.show()"
   ]
  },
  {
   "cell_type": "markdown",
   "metadata": {
    "slideshow": {
     "slide_type": "subslide"
    }
   },
   "source": [
    "![](https://s2.loli.net/2022/05/12/wh6bzCKxOAGvXlm.png)"
   ]
  },
  {
   "cell_type": "markdown",
   "metadata": {
    "slideshow": {
     "slide_type": "subslide"
    }
   },
   "source": [
    "Model Complexity\n",
    "- 一组函数拟合数据点的能力\n",
    "- 在机器学习领域,模型复杂度通常指的是\n",
    "    - 要学习的参数的数量\n",
    "    - 参数取值的范围\n",
    "- 比较不同模型的复杂度很困难,比如比较树和神经网络\n",
    "- 更准确的衡量模型复杂度的一种方法是VC维: **VC dimension**\n",
    "  - 对于分类模型来说,VC维是其可以分类的最大样本数\n",
    "  "
   ]
  },
  {
   "cell_type": "markdown",
   "metadata": {
    "slideshow": {
     "slide_type": "subslide"
    }
   },
   "source": [
    "模型复杂度,训练误差,泛化误差, 欠拟合,过拟合的关系\n",
    "![](https://s2.loli.net/2022/05/12/mz4Ftdqj7H2oCKy.png)"
   ]
  },
  {
   "cell_type": "markdown",
   "metadata": {
    "slideshow": {
     "slide_type": "subslide"
    }
   },
   "source": [
    "Data Complexity\n",
    "- 多种可能的影响因素\n",
    "    - 样本数量\n",
    "    - 每个样本的特征的数量\n",
    "- 同样的,比较不同类型的数据的复杂性很困难,比如字符和像素\n",
    "- 可以用Kolmogorov complexity来精确的衡量数据的复杂度\n"
   ]
  },
  {
   "cell_type": "markdown",
   "metadata": {
    "slideshow": {
     "slide_type": "subslide"
    }
   },
   "source": [
    "数据复杂性与泛化误差的关系:\n",
    "![](https://s2.loli.net/2022/05/12/Lo8g5hfnvrXY4sx.png)\n"
   ]
  },
  {
   "cell_type": "markdown",
   "metadata": {
    "slideshow": {
     "slide_type": "slide"
    }
   },
   "source": [
    "## 评价指标\n",
    "- error\n",
    "$$\n",
    "E(f ; D)=\\frac{1}{m} \\sum_{i=1}^{m} \\mathbb{I}\\left(f\\left(\\boldsymbol{x}_{i}\\right) \\neq y_{i}\\right) \\\\\n",
    "E(f ; \\mathcal{D})=\\int_{\\boldsymbol{x} \\sim \\mathcal{D}} \\mathbb{I}(f(\\boldsymbol{x}) \\neq y) p(\\boldsymbol{x}) \\mathrm{d} \\boldsymbol{x}\n",
    "$$\n",
    "\n",
    "- accuracy\n",
    "\\begin{aligned}\n",
    "\\operatorname{acc}(f ; D) &=\\frac{1}{m} \\sum_{i=1}^{m} \\mathbb{I}\\left(f\\left(\\boldsymbol{x}_{i}\\right)=y_{i}\\right) \\\\\n",
    "&=1-E(f ; D)\n",
    "\\end{aligned}\n",
    "\\begin{aligned}\n",
    "\\operatorname{acc}(f ; \\mathcal{D}) &=\\int_{\\boldsymbol{x} \\sim \\mathcal{D}} \\mathbb{I}(f(\\boldsymbol{x})=y) p(\\boldsymbol{x}) \\mathrm{d} \\boldsymbol{x} \\\\\n",
    "&=1-E(f ; \\mathcal{D})\n",
    "\\end{aligned}"
   ]
  },
  {
   "cell_type": "markdown",
   "metadata": {
    "slideshow": {
     "slide_type": "subslide"
    }
   },
   "source": [
    "\n",
    "![](https://s2.loli.net/2022/05/12/tjmZL715xdcBWOQ.png)\n",
    "- Precision: $P=\\frac{T P}{T P+F P}$\n",
    "\n",
    "\n",
    "- Recall : $R=\\frac{T P}{T P+F N}$"
   ]
  },
  {
   "cell_type": "markdown",
   "metadata": {
    "slideshow": {
     "slide_type": "subslide"
    }
   },
   "source": [
    "- Break-Event Point\n",
    "- P-R 图\n",
    "![](https://s2.loli.net/2022/05/12/c8mgfBat7LqvIQC.png)\n",
    "\n"
   ]
  },
  {
   "cell_type": "markdown",
   "metadata": {
    "slideshow": {
     "slide_type": "subslide"
    }
   },
   "source": [
    "- $F1$\n",
    "$$F 1=\\frac{2 \\times P \\times R}{P+R}=\\frac{2 \\times T P}{\\text { 样例总数 }+T P-T N}\n",
    "$$\n",
    "    - $F1$  是基于查准率与查 全率的调和平均(harmonic mean)定义的:\n",
    "$$\n",
    "\\frac{1}{F 1}=\\frac{1}{2} \\cdot\\left(\\frac{1}{P}+\\frac{1}{R}\\right)\n",
    "$$\n",
    "- $F\\beta$ 在实际应用中,对查准率和查重率的重要程度不同\n",
    "$$\n",
    "F_{\\beta}=\\frac{\\left(1+\\beta^{2}\\right) \\times P \\times R}{\\left(\\beta^{2} \\times P\\right)+R}\n",
    "$$\n",
    "    - $F_{\\beta}$ 则是加权调和平均:\n",
    "$$\n",
    "\\frac{1}{F_{\\beta}}=\\frac{1}{1+\\beta^{2}} \\cdot\\left(\\frac{1}{P}+\\frac{\\beta^{2}}{R}\\right)\n",
    "$$\n",
    "    - 其中$\\beta>0$  度量了查全率对查准率的相对重要性 $\\beta=1$ 时退化为标准的$F 1$ ; $\\beta>1$  时查全率有更大影响;  $\\beta<1$  时查准率有更大影响.\n"
   ]
  },
  {
   "cell_type": "markdown",
   "metadata": {
    "slideshow": {
     "slide_type": "subslide"
    }
   },
   "source": [
    "Training Examples:\n",
    "$$\n",
    "D=\\left\\{\\left(x_{1}, y_{1}\\right), \\ldots,\\left(x_{n}, y_{n}\\right)\\right\\}\n",
    "$$\n",
    "\n",
    "$$\n",
    "对测试样本  \\boldsymbol{x} , 令  y_{D}  为  \\boldsymbol{x}  在数据集中的标记, \n",
    "\\\\\n",
    "y  为  \\boldsymbol{x}  的真实标记,  f(\\boldsymbol{x} ; D)  为训 练集  D  上学得模型  f  在  \\boldsymbol{x}  上的预测输出. \n",
    "\\\\\n",
    "以回归任务为例, 学习算法的期望预\n",
    "$$\n",
    "\n",
    "$$\n",
    "\\bar{f}(\\boldsymbol{x})=\\mathbb{E}_{D}[f(\\boldsymbol{x} ; D)]\n",
    "$$\n",
    "\n",
    "variance:\n",
    "$$\n",
    "\\operatorname{var}(\\boldsymbol{x})=\\mathbb{E}_{D}\\left[(f(\\boldsymbol{x} ; D)-\\bar{f}(\\boldsymbol{x}))^{2}\\right]\n",
    "$$\n",
    "\n",
    "noise:\n",
    "\n",
    "$$  \\varepsilon^{2}=\\mathbb{E}_{D}\\left[\\left(y_{D}-y\\right)^{2}\\right]$$\n",
    "\n",
    "bias:\n",
    "$$\n",
    "\\operatorname{bias}^{2}(\\boldsymbol{x})=(\\bar{f}(\\boldsymbol{x})-y)^{2}\n",
    "$$\n",
    "\n",
    "$$\n",
    "我们优化的目标:\n",
    "\\min _{\\hat{f}_{D}} \\sum_{\\left(x_{i}, y_{i}\\right) \\in D}\\left(y_{i}-\\bar{f}{f}_{D}\\left(x_{i}\\right)\\right)^{2}\n",
    "$$\n",
    "\n",
    "\n",
    "\n",
    "\n",
    "\n"
   ]
  },
  {
   "cell_type": "markdown",
   "metadata": {
    "slideshow": {
     "slide_type": "subslide"
    }
   },
   "source": [
    "在假设噪声的期望为0的情况下,我们可以得到error的期望为:\n",
    "$$\n",
    "E(f ; D)=\\operatorname{bias}^{2}(\\boldsymbol{x})+\\operatorname{var}(\\boldsymbol{x})+\\varepsilon^{2}\n",
    "$$\n",
    "\n",
    "$\\text { 泛化误差可分解为偏差、方差与噪声之和 }$\n",
    "\n",
    "关于方差和误差在模型预测上的表现,可以参考下面这个形象的解释\n",
    "\n",
    "![](https://s2.loli.net/2022/05/19/MsvSqOmrxBHoRup.png)\n"
   ]
  },
  {
   "cell_type": "markdown",
   "metadata": {
    "slideshow": {
     "slide_type": "subslide"
    }
   },
   "source": [
    "![](https://s2.loli.net/2022/05/20/1YarZNUPHky4eAM.png)"
   ]
  },
  {
   "cell_type": "markdown",
   "metadata": {
    "slideshow": {
     "slide_type": "subslide"
    }
   },
   "source": [
    "- 减少偏差:\n",
    "    - 使用更复杂的模型\n",
    "    - Boosting\n",
    "    - Stacking\n",
    "- 减少方差\n",
    "    - 使用简单的模型\n",
    "    - 正则化\n",
    "    - Bagging\n",
    "    - Stacking\n",
    "- 减少噪声\n",
    "    - 更多的数据\n",
    "    \n",
    "    "
   ]
  },
  {
   "cell_type": "markdown",
   "metadata": {
    "slideshow": {
     "slide_type": "subslide"
    }
   },
   "source": [
    "### Bagging \n",
    "- Bootstrap AGGregatING\n",
    "- 做bagging的时候，每次训练n个模型（base learners），但是每个模型都是**独立并行**训练的，在得到n个模型之后\n",
    "    - 如果是回归问题，会把每一个模型的输出做平均就得到了bagging出来的效果\n",
    "    - 如果是做分类的话，这样每一个模型都会输出一个类别，然后会用这些输出做投票选最多的（这个叫Majority voting）\n",
    "- 每个模型的训练是通过bootstrap采样得到的训练集上训练的\n",
    "\n",
    "什么是bootstrap采样？\n",
    "\n",
    "假设训练集有m个样本，每一次训练base learner的时候，随机采样m个样本，每次采样我们会将这个样本放回去，可能有些样本会重复,如果有n个模型要这样训练，就重复n次\n",
    "\n",
    "\n",
    "样本在  m  次采 样中始终不被采到的概率是 \n",
    "$ \\left(1-\\frac{1}{m}\\right)^{m} $, 取极限得到\n",
    "$$\\lim _{m \\mapsto \\infty}\\left(1-\\frac{1}{m}\\right)^{m} \\mapsto \\frac{1}{e} \\approx 0.368\n",
    "$$\n",
    "\n",
    "大概是有$1-\\frac{1}{e} ≈63\\%$的概率会被采样到，就是说可能有$37\\%$的样本是没有采样出来的，可以用这个来做验证集，这个也叫做 out of bag\n",
    "\n"
   ]
  },
  {
   "cell_type": "code",
   "execution_count": 1,
   "metadata": {
    "ExecuteTime": {
     "end_time": "2022-05-20T01:06:49.849750Z",
     "start_time": "2022-05-20T01:06:49.821671Z"
    },
    "slideshow": {
     "slide_type": "subslide"
    }
   },
   "outputs": [],
   "source": [
    "# Bagging Code(scikit-learn)\n",
    "class Bagging:\n",
    "    def __init__(self, base_learner, n_learner):\n",
    "        self.learners = [clone(base_learner) for _ in range(n_learners)]\n",
    "        \n",
    "    def fit(self, X, y):\n",
    "        for learner in self.learners:\n",
    "            examples = np.random.choice(\n",
    "            np.arange(len(X)), int(len(X)), replace=True)\n",
    "            learner.fit(X.iloc[examples, :], y.iloc[examples])\n",
    "    def predict(self, X):\n",
    "        preds = [learner.predict(X) for learner in self.learners]\n",
    "        return np.array(preds).mean(axis=0) \n",
    "    \n",
    "            "
   ]
  },
  {
   "cell_type": "markdown",
   "metadata": {
    "slideshow": {
     "slide_type": "subslide"
    }
   },
   "source": [
    "bagging主要下降的是方差，在统计上采样1次和采样n次取平均，它的均值是不会发生变化的就bias是不会发生变化的，唯一下降的是方差，采样的越多，方差相对来说变得越小。 \n",
    "因此如果base learner是不稳定的算法,使用bagging可以有效的减少方差带来的泛化误差\n",
    "\n"
   ]
  },
  {
   "cell_type": "markdown",
   "metadata": {
    "slideshow": {
     "slide_type": "subslide"
    }
   },
   "source": [
    "### Boosting\n",
    "\n",
    "~~Learn n weak learners **sequentially**, combine to reduce\n",
    "model bias~~\n",
    "- ~~At step $t$ , repeat~~:\n",
    "- ~~Evaluate the existing learners' errors ~~$ \\epsilon_{t} $\n",
    "- ~~Train a weak learner ~~ $\\hat{f}_{t^{\\prime}}$ ,~~ focus on wrongly predicted examples~~\n",
    "    - ~~*AdaBoost*(Adaptive Boosting, initially created to increase the efficiency of binary classifiers) : Re-sample data according to  ~~$\\epsilon_{t} $\n",
    "    - ~~*Gradient boosting* : Train learner to predict ~~$ \\epsilon_{t} $\n",
    "- ~~Additively combining existing weak learners with $ \\hat{f}_{t}$\n",
    "~~\n"
   ]
  },
  {
   "cell_type": "markdown",
   "metadata": {
    "slideshow": {
     "slide_type": "subslide"
    }
   },
   "source": [
    "\n",
    "boosting 将多个弱一点的模型（偏差比较大）组合起来变成强一点的模型（偏差比较小），主要是为了去降低偏差而不是方差\n",
    "\n",
    "\n",
    "Bagging 把多个不那么稳定的模型把它们放在一起得到一个相对稳定的模型\n",
    "\n",
    "\n",
    "Boosting是要**按顺序**的学习(bagging是每个模型是独立的)\n",
    "\n",
    "\n",
    "具体的做法：每一次在第$i$步的时候，会训练一个弱模型$h_i$，然后去评估一下它的误差$\\epsilon_{t}$；然后根据当前的误差$\\epsilon_{t}$重新采样一下，使得接下来的模型$h_{i+1}$会去关注那些预测不正确的样本；\n",
    "\n",
    "\n",
    "比较著名的样例：AdaBoost,Gradient boosting "
   ]
  },
  {
   "cell_type": "markdown",
   "metadata": {
    "slideshow": {
     "slide_type": "subslide"
    }
   },
   "source": [
    "stacking 跟之前个begging有一点像的，都是将多个base learner放在一起，来降低方差；\n",
    "\n",
    "\n",
    "但是不同在于stacking的base learner可以有不同的模型类别；\n",
    "\n",
    "stacking的输出是concat起来的（模型种类不一样输出可能不同），然后再做线性的组合就得到最终的输出,\n",
    "\n",
    "bagging是在数据上多次训练同样的模型；bagging是所有模型的输出做平均或做投票\n",
    "\n",
    "\n",
    "每个模型是在原始数据上训练,不需要再通过bootstrap的采样"
   ]
  },
  {
   "cell_type": "markdown",
   "metadata": {
    "slideshow": {
     "slide_type": "subslide"
    }
   },
   "source": [
    "![](https://s2.loli.net/2022/05/20/YV7NupJgDS1wa6k.png)"
   ]
  },
  {
   "cell_type": "markdown",
   "metadata": {
    "slideshow": {
     "slide_type": "subslide"
    }
   },
   "source": [
    "## 验证集划分\n",
    "- hold-out \n",
    "$$D=S \\cup T, S \\cap T=\\varnothing$$\n",
    "\n",
    "- k-fold cross validation\n",
    "$$D=D_{1} \\cup D_{2} \\cup \\ldots \\cup D_{k}, D_{i} \\cap D_{j}=\\varnothing(i \\neq j)$$\n",
    "为了减少因为样本划分方式不同而引起的差别,通常k折交叉验证要使用不同的划分方式随机划分p次\n",
    "\n",
    "- Leave-One-Out\n",
    "k is m\n",
    "\n"
   ]
  },
  {
   "cell_type": "markdown",
   "metadata": {
    "slideshow": {
     "slide_type": "subslide"
    }
   },
   "source": [
    "![](https://s2.loli.net/2022/05/20/QGnEoBUe9pJkTwN.png)"
   ]
  },
  {
   "cell_type": "markdown",
   "metadata": {
    "slideshow": {
     "slide_type": "subslide"
    }
   },
   "source": [
    "### 使用KFold类\n",
    "1. n_splits：int, 默认为5。表示拆分成5折\n",
    "\n",
    "2. shuffle：bool, 默认为False。切分数据集之前是否对数据进行洗牌。True洗牌，False不洗牌。\n",
    "\n",
    "3. random_state：int, 默认为None。当shuffle为 True 时，如果random_state为None，则每次运行代码，获得的数据切分都不一样，random_state指定的时候，则每次运行代码，都能获得同样的切分数据，保证实验可重复。\n"
   ]
  },
  {
   "cell_type": "code",
   "execution_count": 65,
   "metadata": {
    "ExecuteTime": {
     "end_time": "2022-05-20T04:09:00.726022Z",
     "start_time": "2022-05-20T04:09:00.709017Z"
    },
    "slideshow": {
     "slide_type": "subslide"
    }
   },
   "outputs": [
    {
     "name": "stdout",
     "output_type": "stream",
     "text": [
      "(150, 4)\n",
      "iteration:0\n",
      "(135,) (15,)\n",
      "[  0   2   3   4   5   6   7   8   9  10  12  13  14  16  17  18  19  20\n",
      "  21  22  23  24  25  27  29  30  31  33  34  35  36  37  38  39  41  42\n",
      "  43  44  46  47  48  49  50  51  52  53  54  55  56  57  58  59  60  61\n",
      "  62  63  64  65  66  67  68  69  70  71  72  73  74  75  76  77  78  79\n",
      "  80  81  82  83  84  85  86  87  88  89  90  91  92  93  94  95  96  97\n",
      "  98  99 100 101 102 103 104 105 106 107 108 109 110 111 112 113 114 117\n",
      " 119 120 121 122 124 125 126 127 129 130 131 132 133 134 136 137 138 139\n",
      " 140 141 142 143 144 146 147 148 149]\n",
      "[  1  11  15  26  28  32  40  45 115 116 118 123 128 135 145]\n",
      "iteration:1\n",
      "(135,) (15,)\n",
      "[  0   1   2   3   4   5   6   7   8   9  10  11  12  13  14  15  16  17\n",
      "  18  19  21  22  23  24  25  26  27  28  30  32  33  34  35  36  37  38\n",
      "  39  40  41  42  43  44  45  46  47  48  49  50  51  52  53  54  55  56\n",
      "  57  58  59  60  61  63  64  65  66  67  68  70  71  72  74  76  78  79\n",
      "  80  81  82  83  84  85  86  87  88  89  90  91  92  93  94  95  96  98\n",
      "  99 100 101 102 103 104 105 106 107 108 109 110 111 113 114 115 116 117\n",
      " 118 119 121 123 124 126 127 128 129 130 131 132 133 134 135 136 137 138\n",
      " 139 140 141 142 143 144 145 147 148]\n",
      "[ 20  29  31  62  69  73  75  77  97 112 120 122 125 146 149]\n",
      "iteration:2\n",
      "(135,) (15,)\n",
      "[  0   1   2   3   4   5   6   7   8   9  10  11  13  14  15  17  18  19\n",
      "  20  21  22  23  24  25  26  27  28  29  30  31  32  33  34  35  36  38\n",
      "  39  40  42  43  44  45  47  48  49  50  52  53  54  55  56  57  58  59\n",
      "  60  61  62  63  64  65  66  67  68  69  70  71  72  73  74  75  76  77\n",
      "  78  79  80  82  83  84  85  86  87  88  91  92  93  94  95  96  97  98\n",
      " 100 101 103 104 105 106 107 108 110 111 112 113 115 116 117 118 120 121\n",
      " 122 123 124 125 126 127 128 129 130 131 132 133 134 135 137 138 139 140\n",
      " 141 142 143 144 145 146 147 148 149]\n",
      "[ 12  16  37  41  46  51  81  89  90  99 102 109 114 119 136]\n",
      "iteration:3\n",
      "(135,) (15,)\n",
      "[  0   1   2   3   4   5   7   8  10  11  12  13  14  15  16  17  18  19\n",
      "  20  22  24  26  27  28  29  30  31  32  33  34  36  37  38  39  40  41\n",
      "  42  43  44  45  46  47  48  49  50  51  52  53  55  56  57  58  59  60\n",
      "  61  62  63  64  65  66  67  68  69  70  71  72  73  74  75  76  77  78\n",
      "  79  80  81  82  83  85  86  87  88  89  90  91  93  94  95  97  98  99\n",
      " 100 101 102 103 104 105 106 107 108 109 112 113 114 115 116 118 119 120\n",
      " 121 122 123 124 125 126 128 129 130 132 133 134 135 136 137 138 139 140\n",
      " 141 142 143 144 145 146 147 148 149]\n",
      "[  6   9  21  23  25  35  54  84  92  96 110 111 117 127 131]\n",
      "iteration:4\n",
      "(135,) (15,)\n",
      "[  0   1   2   3   4   6   7   8   9  10  11  12  13  14  15  16  17  18\n",
      "  19  20  21  23  24  25  26  27  28  29  30  31  32  34  35  37  38  39\n",
      "  40  41  44  45  46  47  48  49  50  51  53  54  55  56  57  58  59  60\n",
      "  61  62  63  64  65  66  67  68  69  70  71  72  73  74  75  76  77  78\n",
      "  79  80  81  83  84  85  86  87  88  89  90  91  92  93  94  95  96  97\n",
      "  98  99 100 102 103 105 106 107 108 109 110 111 112 113 114 115 116 117\n",
      " 118 119 120 121 122 123 125 126 127 128 129 130 131 132 135 136 137 138\n",
      " 140 141 142 143 145 146 147 148 149]\n",
      "[  5  22  33  36  42  43  52  82 101 104 124 133 134 139 144]\n",
      "iteration:5\n",
      "(135,) (15,)\n",
      "[  1   2   4   5   6   7   8   9  11  12  13  14  15  16  17  18  19  20\n",
      "  21  22  23  24  25  26  27  28  29  30  31  32  33  34  35  36  37  38\n",
      "  39  40  41  42  43  44  45  46  47  48  49  51  52  53  54  55  56  58\n",
      "  59  60  61  62  63  64  65  66  67  69  71  72  73  74  75  77  79  80\n",
      "  81  82  84  86  87  89  90  91  92  93  94  96  97  98  99 100 101 102\n",
      " 103 104 105 106 107 108 109 110 111 112 113 114 115 116 117 118 119 120\n",
      " 121 122 123 124 125 127 128 129 130 131 133 134 135 136 137 138 139 140\n",
      " 141 142 143 144 145 146 147 148 149]\n",
      "[  0   3  10  50  57  68  70  76  78  83  85  88  95 126 132]\n",
      "iteration:6\n",
      "(135,) (15,)\n",
      "[  0   1   2   3   4   5   6   7   8   9  10  11  12  14  15  16  19  20\n",
      "  21  22  23  24  25  26  27  28  29  30  31  32  33  34  35  36  37  40\n",
      "  41  42  43  45  46  47  49  50  51  52  53  54  55  56  57  58  59  60\n",
      "  61  62  63  65  66  67  68  69  70  71  73  75  76  77  78  79  80  81\n",
      "  82  83  84  85  86  87  88  89  90  91  92  93  94  95  96  97  98  99\n",
      " 100 101 102 103 104 105 107 108 109 110 111 112 114 115 116 117 118 119\n",
      " 120 122 123 124 125 126 127 128 130 131 132 133 134 135 136 138 139 140\n",
      " 141 142 143 144 145 146 147 148 149]\n",
      "[ 13  17  18  38  39  44  48  64  72  74 106 113 121 129 137]\n",
      "iteration:7\n",
      "(135,) (15,)\n",
      "[  0   1   3   4   5   6   7   8   9  10  11  12  13  14  15  16  17  18\n",
      "  20  21  22  23  24  25  26  28  29  31  32  33  34  35  36  37  38  39\n",
      "  40  41  42  43  44  45  46  47  48  49  50  51  52  53  54  57  58  59\n",
      "  60  62  64  65  66  67  68  69  70  72  73  74  75  76  77  78  79  81\n",
      "  82  83  84  85  86  87  88  89  90  91  92  93  94  95  96  97  98  99\n",
      " 100 101 102 103 104 106 107 108 109 110 111 112 113 114 115 116 117 118\n",
      " 119 120 121 122 123 124 125 126 127 128 129 130 131 132 133 134 135 136\n",
      " 137 138 139 144 145 146 147 148 149]\n",
      "[  2  19  27  30  55  56  61  63  71  80 105 140 141 142 143]\n",
      "iteration:8\n",
      "(135,) (15,)\n",
      "[  0   1   2   3   5   6   8   9  10  11  12  13  14  15  16  17  18  19\n",
      "  20  21  22  23  24  25  26  27  28  29  30  31  32  33  34  35  36  37\n",
      "  38  39  40  41  42  43  44  45  46  48  50  51  52  53  54  55  56  57\n",
      "  61  62  63  64  66  67  68  69  70  71  72  73  74  75  76  77  78  79\n",
      "  80  81  82  83  84  85  87  88  89  90  92  94  95  96  97  98  99 101\n",
      " 102 103 104 105 106 107 109 110 111 112 113 114 115 116 117 118 119 120\n",
      " 121 122 123 124 125 126 127 128 129 131 132 133 134 135 136 137 138 139\n",
      " 140 141 142 143 144 145 146 148 149]\n",
      "[  4   7  47  49  58  59  60  65  86  91  93 100 108 130 147]\n",
      "iteration:9\n",
      "(135,) (15,)\n",
      "[  0   1   2   3   4   5   6   7   9  10  11  12  13  15  16  17  18  19\n",
      "  20  21  22  23  25  26  27  28  29  30  31  32  33  35  36  37  38  39\n",
      "  40  41  42  43  44  45  46  47  48  49  50  51  52  54  55  56  57  58\n",
      "  59  60  61  62  63  64  65  68  69  70  71  72  73  74  75  76  77  78\n",
      "  80  81  82  83  84  85  86  88  89  90  91  92  93  95  96  97  99 100\n",
      " 101 102 104 105 106 108 109 110 111 112 113 114 115 116 117 118 119 120\n",
      " 121 122 123 124 125 126 127 128 129 130 131 132 133 134 135 136 137 139\n",
      " 140 141 142 143 144 145 146 147 149]\n",
      "[  8  14  24  34  53  66  67  79  87  94  98 103 107 138 148]\n"
     ]
    }
   ],
   "source": [
    "from sklearn.model_selection import KFold\n",
    "from sklearn.datasets import load_iris\n",
    "from sklearn.ensemble import RandomForestClassifier\n",
    "import numpy as np\n",
    "X,y = load_iris(return_X_y=True)\n",
    "print(X.shape)\n",
    "KF = KFold(n_splits=10,shuffle=True,random_state=100)\n",
    "model = RandomForestClassifier()\n",
    "i = 0\n",
    "for train_index,test_index in KF.split(X):\n",
    "    print(f'iteration:{i}')\n",
    "    print(train_index.shape, test_index.shape)\n",
    "    print(train_index)\n",
    "    print(test_index)\n",
    "    i += 1\n"
   ]
  },
  {
   "cell_type": "code",
   "execution_count": null,
   "metadata": {
    "ExecuteTime": {
     "end_time": "2022-05-20T04:01:56.003876Z",
     "start_time": "2022-05-20T04:01:55.991859Z"
    }
   },
   "outputs": [],
   "source": []
  },
  {
   "cell_type": "code",
   "execution_count": null,
   "metadata": {},
   "outputs": [],
   "source": []
  }
 ],
 "metadata": {
  "celltoolbar": "幻灯片",
  "kernelspec": {
   "display_name": "Python 3 (ipykernel)",
   "language": "python",
   "name": "python3"
  },
  "language_info": {
   "codemirror_mode": {
    "name": "ipython",
    "version": 3
   },
   "file_extension": ".py",
   "mimetype": "text/x-python",
   "name": "python",
   "nbconvert_exporter": "python",
   "pygments_lexer": "ipython3",
   "version": "3.8.12"
  },
  "latex_envs": {
   "LaTeX_envs_menu_present": true,
   "autoclose": false,
   "autocomplete": true,
   "bibliofile": "biblio.bib",
   "cite_by": "apalike",
   "current_citInitial": 1,
   "eqLabelWithNumbers": true,
   "eqNumInitial": 1,
   "hotkeys": {
    "equation": "Ctrl-E",
    "itemize": "Ctrl-I"
   },
   "labels_anchors": false,
   "latex_user_defs": false,
   "report_style_numbering": false,
   "user_envs_cfg": false
  },
  "varInspector": {
   "cols": {
    "lenName": 16,
    "lenType": 16,
    "lenVar": 40
   },
   "kernels_config": {
    "python": {
     "delete_cmd_postfix": "",
     "delete_cmd_prefix": "del ",
     "library": "var_list.py",
     "varRefreshCmd": "print(var_dic_list())"
    },
    "r": {
     "delete_cmd_postfix": ") ",
     "delete_cmd_prefix": "rm(",
     "library": "var_list.r",
     "varRefreshCmd": "cat(var_dic_list()) "
    }
   },
   "types_to_exclude": [
    "module",
    "function",
    "builtin_function_or_method",
    "instance",
    "_Feature"
   ],
   "window_display": false
  }
 },
 "nbformat": 4,
 "nbformat_minor": 2
}
